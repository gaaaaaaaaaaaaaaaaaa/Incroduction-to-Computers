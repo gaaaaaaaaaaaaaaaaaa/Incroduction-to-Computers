{
  "nbformat": 4,
  "nbformat_minor": 0,
  "metadata": {
    "colab": {
      "name": "0511.ipynb",
      "provenance": [],
      "authorship_tag": "ABX9TyPd1Ir2mnIDQtL67XDOsshF",
      "include_colab_link": true
    },
    "kernelspec": {
      "name": "python3",
      "display_name": "Python 3"
    },
    "language_info": {
      "name": "python"
    }
  },
  "cells": [
    {
      "cell_type": "markdown",
      "metadata": {
        "id": "view-in-github",
        "colab_type": "text"
      },
      "source": [
        "<a href=\"https://colab.research.google.com/github/gaaaaaaaaaaaaaaaaaa/Incroduction-to-Computers/blob/main/0511.ipynb\" target=\"_parent\"><img src=\"https://colab.research.google.com/assets/colab-badge.svg\" alt=\"Open In Colab\"/></a>"
      ]
    },
    {
      "cell_type": "code",
      "execution_count": 1,
      "metadata": {
        "colab": {
          "base_uri": "https://localhost:8080/"
        },
        "id": "CMhA0V86B1Zj",
        "outputId": "bc2b9c59-eb55-4f77-b0c2-3aa6d2fd836b"
      },
      "outputs": [
        {
          "output_type": "stream",
          "name": "stdout",
          "text": [
            "test\n"
          ]
        }
      ],
      "source": [
        "print(\"test\")"
      ]
    },
    {
      "cell_type": "code",
      "source": [
        "temp=float(input(\"請輸入你的體溫\"))\n",
        "if temp>=37.5:\n",
        "  print(\"體溫過高!\")\n",
        "elif temp>= 37 and temp < 37.4:\n",
        "  print(\"體溫略高!\")\n",
        "elif temp>= 34 and temp < 36.9:\n",
        "  print(\"體溫正常!\")\n",
        "else:\n",
        "  print(\"體溫異常,請重新量測!\")    "
      ],
      "metadata": {
        "colab": {
          "base_uri": "https://localhost:8080/"
        },
        "id": "SVzD4fKcChSz",
        "outputId": "46261885-8556-4c97-b599-4bb725af5418"
      },
      "execution_count": 2,
      "outputs": [
        {
          "output_type": "stream",
          "name": "stdout",
          "text": [
            "請輸入你的體溫37.5\n",
            "體溫過高!\n"
          ]
        }
      ]
    },
    {
      "cell_type": "code",
      "source": [
        "money=int(input(\"請輸入購物金額:\"))\n",
        "if(money>=10000):\n",
        "  if(money>=100000):\n",
        "    print(\"八折\",money*0.8,end=\"元\\n\")\n",
        "  elif(money>=50000):\n",
        "    print(\"八五折\",money*0.85,end=\"元\\n\")\n",
        "  elif(money>=300000):\n",
        "    print(\"九折\",money*0.9,end=\"元\\n\")\n",
        "  else:\n",
        "    print(\"九五折\",money*0.95,end=\"元\\n\")\n",
        "else:\n",
        "  print(\"沒打折\",money,end=\"元\\n\")    \n"
      ],
      "metadata": {
        "colab": {
          "base_uri": "https://localhost:8080/"
        },
        "id": "oVJ3uonpEAuQ",
        "outputId": "400fdcef-4ab5-45d9-a596-cb46fa9a24dc"
      },
      "execution_count": 3,
      "outputs": [
        {
          "output_type": "stream",
          "name": "stdout",
          "text": [
            "請輸入購物金額:50000\n",
            "八五折 42500.0元\n"
          ]
        }
      ]
    },
    {
      "cell_type": "code",
      "source": [
        "grade=float(input(\"請輸入成績\"))\n",
        "if (grade>=90):\n",
        "  print(\"A\")\n",
        "elif (grade>=80 and grade<=89):\n",
        " print(\"B\")\n",
        "elif (grade>=70 and grade<=79):\n",
        " print(\"C\")\n",
        "elif (grade>=60 and grade<=69):\n",
        " print(\"D\")\n",
        "else:\n",
        "  print(\"E\")   "
      ],
      "metadata": {
        "colab": {
          "base_uri": "https://localhost:8080/"
        },
        "id": "O9wBDIlUTPUw",
        "outputId": "97f29e98-8af1-488c-9377-f5261d871a24"
      },
      "execution_count": 21,
      "outputs": [
        {
          "output_type": "stream",
          "name": "stdout",
          "text": [
            "請輸入成績90\n",
            "A\n"
          ]
        }
      ]
    },
    {
      "cell_type": "code",
      "source": [
        "grade=float(input(\"請輸入成績\"))\n",
        "if (grade>=90):\n",
        "  print(\"A\")\n",
        "elif (grade>=80 and grade<=89):\n",
        " print(\"B\")\n",
        "elif (grade>=70 and grade<=79):\n",
        " print(\"C\")\n",
        "elif (grade>=60 and grade<=69):\n",
        " print(\"D\")\n",
        "else:\n",
        "  print(\"E\")   "
      ],
      "metadata": {
        "colab": {
          "base_uri": "https://localhost:8080/"
        },
        "id": "uGjy6wezZ_YO",
        "outputId": "651fb292-312f-46de-fb30-1ff7651a2165"
      },
      "execution_count": 23,
      "outputs": [
        {
          "output_type": "stream",
          "name": "stdout",
          "text": [
            "請輸入成績80\n",
            "B\n"
          ]
        }
      ]
    },
    {
      "cell_type": "code",
      "source": [
        "grade=float(input(\"請輸入成績\"))\n",
        "if (grade>=90):\n",
        "  print(\"A\")\n",
        "elif (grade>=80 and grade<=89):\n",
        " print(\"B\")\n",
        "elif (grade>=70 and grade<=79):\n",
        " print(\"C\")\n",
        "elif (grade>=60 and grade<=69):\n",
        " print(\"D\")\n",
        "else:\n",
        "  print(\"E\")   "
      ],
      "metadata": {
        "colab": {
          "base_uri": "https://localhost:8080/"
        },
        "id": "LgS65xzFaMcT",
        "outputId": "3ab4f727-8b26-44f4-e29d-9732b91c404a"
      },
      "execution_count": 24,
      "outputs": [
        {
          "output_type": "stream",
          "name": "stdout",
          "text": [
            "請輸入成績59\n",
            "E\n"
          ]
        }
      ]
    },
    {
      "cell_type": "code",
      "source": [
        "month=int(input(\"請輸入月份:\"))\n",
        "if (month==3 or month==4 or month==5):\n",
        " print(\"是春天!\")\n",
        "elif (month==6 or month==7 or month==8):\n",
        " print(\"是夏天!\") \n",
        "elif (month==9 or month==10 or month==11):\n",
        "  print(\"是秋天!\")\n",
        "elif (month==1 or month==2 or month==12):\n",
        "  print(\"是冬天!\")\n",
        "else:\n",
        "  print(\"月份不再範圍內!\")  \n",
        "  "
      ],
      "metadata": {
        "colab": {
          "base_uri": "https://localhost:8080/"
        },
        "id": "vtJGGJWNGAfw",
        "outputId": "3ca2f328-5f52-4e95-b98e-7b9126850b7d"
      },
      "execution_count": 25,
      "outputs": [
        {
          "output_type": "stream",
          "name": "stdout",
          "text": [
            "請輸入月份:11\n",
            "是秋天!\n"
          ]
        }
      ]
    },
    {
      "cell_type": "code",
      "source": [
        "revenue=float(input(\"請輸入今年收入淨額:\"))\n",
        "if(revenue>=2000000):\n",
        "  print(\"付稅金額:\",revenue*0.3,end=\"元\\n\")\n",
        "elif(revenue>=1000000):\n",
        "  print(\"付稅金額:\",revenue*0.21,end=\"元\\n\")  \n",
        "elif(revenue>=600000):\n",
        "  print(\"付稅金額:\",revenue*0.13,end=\"元\\n\") \n",
        "elif(revenue>=300000):\n",
        "  print(\"付稅金額:\",revenue*0.06,end=\"元\\n\")  \n",
        "else:\n",
        "  print(\"付稅金額:\",0,end=\"元\\n\")       \n"
      ],
      "metadata": {
        "colab": {
          "base_uri": "https://localhost:8080/"
        },
        "id": "fZ7lS9IcJH9e",
        "outputId": "62ab9812-600b-4505-a05c-a86c5caec2a2"
      },
      "execution_count": 6,
      "outputs": [
        {
          "output_type": "stream",
          "name": "stdout",
          "text": [
            "請輸入今年收入淨額:100000\n",
            "付稅金額: 0元\n"
          ]
        }
      ]
    },
    {
      "cell_type": "code",
      "source": [
        "revenue=float(input(\"請輸入今年收入淨額:\"))\n",
        "if(revenue>=2000000):\n",
        "  print(\"付稅金額:\",revenue*0.3,end=\"元\\n\")\n",
        "elif(revenue>=1000000):\n",
        "  print(\"付稅金額:\",revenue*0.21,end=\"元\\n\")  \n",
        "elif(revenue>=600000):\n",
        "  print(\"付稅金額:\",revenue*0.13,end=\"元\\n\") \n",
        "elif(revenue>=300000):\n",
        "  print(\"付稅金額:\",revenue*0.06,end=\"元\\n\")  \n",
        "else:\n",
        "  print(\"付稅金額:\",0,end=\"元\\n\")       "
      ],
      "metadata": {
        "colab": {
          "base_uri": "https://localhost:8080/"
        },
        "id": "aiS8zF_XzKKX",
        "outputId": "f78efb9c-e1ce-4f9a-db0e-10f29a5afa55"
      },
      "execution_count": 7,
      "outputs": [
        {
          "output_type": "stream",
          "name": "stdout",
          "text": [
            "請輸入今年收入淨額:2000000\n",
            "付稅金額: 600000.0元\n"
          ]
        }
      ]
    },
    {
      "cell_type": "code",
      "source": [
        ""
      ],
      "metadata": {
        "id": "EgfTq84Q3K9D"
      },
      "execution_count": 7,
      "outputs": []
    }
  ]
}